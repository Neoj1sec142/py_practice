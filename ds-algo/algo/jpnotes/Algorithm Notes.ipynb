{
 "cells": [
  {
   "cell_type": "code",
   "execution_count": 8,
   "id": "3ebf83b6",
   "metadata": {},
   "outputs": [
    {
     "name": "stdout",
     "output_type": "stream",
     "text": [
      "Failed 3\n"
     ]
    }
   ],
   "source": [
    "list = range(1,100)\n",
    "t = 27\n",
    "def find_val(list, t):\n",
    "    middle = float(len(list))/2\n",
    "    if middle == t:\n",
    "        print(middle)\n",
    "    elif middle < t:\n",
    "        list = range(int(middle), 100)\n",
    "        middle = float(len(list))/2\n",
    "        if middle == t:\n",
    "            print(middle)\n",
    "        elif middle < t:\n",
    "            list = range(int(middle), 100)\n",
    "            middle = float(len(list))/2\n",
    "            if middle == t:\n",
    "                print(middle)\n",
    "            elif middle < t:\n",
    "                list = range(int(middle), 100)\n",
    "                middle = float(len(list))/2\n",
    "            else:\n",
    "                print(\"Failed 1\")\n",
    "        else:\n",
    "            print(\"Failed 2\")\n",
    "    else:\n",
    "        print(\"Failed 3\")\n",
    "find_val(list, t)"
   ]
  },
  {
   "cell_type": "code",
   "execution_count": null,
   "id": "d9ac8148",
   "metadata": {},
   "outputs": [],
   "source": []
  }
 ],
 "metadata": {
  "kernelspec": {
   "display_name": "Python 3 (ipykernel)",
   "language": "python",
   "name": "python3"
  },
  "language_info": {
   "codemirror_mode": {
    "name": "ipython",
    "version": 3
   },
   "file_extension": ".py",
   "mimetype": "text/x-python",
   "name": "python",
   "nbconvert_exporter": "python",
   "pygments_lexer": "ipython3",
   "version": "3.9.12"
  }
 },
 "nbformat": 4,
 "nbformat_minor": 5
}
